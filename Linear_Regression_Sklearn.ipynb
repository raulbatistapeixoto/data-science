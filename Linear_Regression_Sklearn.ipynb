{
 "cells": [
  {
   "cell_type": "markdown",
   "id": "renewable-european",
   "metadata": {},
   "source": [
    "---"
   ]
  },
  {
   "cell_type": "markdown",
   "id": "alpine-morrison",
   "metadata": {},
   "source": [
    "# **Implementação de Regressão Linear com o Scikit-learn**\n",
    "\n",
    "O pacote **Scikit-learn** é amplamente usado para aprendizado de máquina, fundamentado sobre o **Numpy**, **SciPy** e alguns outros pacotes. Ele fornece os meios para pré-processamento de dados, redução da dimensionalidade, implementação de regressão, classificação, armazenamento em cluster, entre outros. Para saber mais sobre os modelos que podem ser implementados usando **Scikit-learn** visite o [site](https://scikit-learn.org/stable/)."
   ]
  },
  {
   "cell_type": "markdown",
   "id": "solar-absolute",
   "metadata": {},
   "source": [
    "---"
   ]
  },
  {
   "cell_type": "markdown",
   "id": "lovely-survey",
   "metadata": {},
   "source": [
    "## **Regressão Linear**\n",
    "\n",
    "Primeiro precisamos nos perguntar, para que usamos uma regressão linear?\n",
    "\n",
    "Uma regressão linear tem como objetivo tratar valores de forma a achar uma relação entre eles. Neste caso o termo \"*Linear*\" remete ao fato de que a relação entre estes valores é uma função *linear* de alguns parâmetros. \n",
    "\n",
    "Agora traremos um pouco da aboradagem teórica. Para se estimar o valor esperado usamos a equação:\n",
    "\n",
    "$$\\tilde{y}_i = b_0 + b_{i+1}x_i + \\epsilon_{i} \\quad \\text{com $i =  1,2,... n$.}$$\n",
    "\n",
    "\n",
    "\n",
    "Em notação matricial temos:\n",
    "\n",
    "$$\\mathbf{\\tilde{y}} = \\mathbf{b}\\mathbf{x} + \\mathbf{\\epsilon} $$\n",
    "\n",
    "Temos que $\\mathbf{\\tilde{y}}$ é uma matriz de $n \\times 1$ observações, $\\mathbf{x}$ é uma matriz de tamanho $n \\times m+1$ (a primeira coluna sempre é preenchida por 1s, representando a constante $b_0$, e $m$ é a quantidade de entradas (ou regressor)), $\\mathbf{b}$ é uma matriz $m+1 \\times 1$ e $\\mathbf{\\epsilon}$ é uma matriz $n \\times 1$ de resíduos (erros de medição).\n",
    "\n",
    "$$\\mathbf{x}= \\begin{bmatrix}\n",
    " 1 & x_{11} & x_{12} & x_{13} & \\cdots & x_{1m}\\\\\n",
    " 1 & x_{21} & x_{22} & x_{23} & \\cdots & x_{2m}\\\\\n",
    " 1 & x_{31} & x_{32} & x_{33} & \\cdots & x_{3m}\\\\\n",
    " \\vdots & \\vdots & \\vdots & \\vdots & \\ddots & \\vdots \\\\\n",
    " 1 & x_{n1} & x_{n2} & x_{n3} & \\cdots & x_{nm}\\\\\n",
    "\\end{bmatrix}$$\n",
    "\n",
    "\n",
    "\n",
    "$$\\mathbf{\\tilde{y}}= \\begin{bmatrix}\n",
    " \\tilde{y}_{1} \\\\\n",
    " \\tilde{y}_{2}\\\\\n",
    " \\tilde{y}_{3}\\\\\n",
    " \\vdots\\\\\n",
    " \\tilde{y}_{n}\\\\\n",
    "\\end{bmatrix} \n",
    "\\quad \\mathbf{b}= \\begin{bmatrix}\n",
    " b_{0} \\\\\n",
    " b_{1}\\\\\n",
    " b_{2}\\\\\n",
    " b_{3}\\\\\n",
    " \\vdots\\\\\n",
    " b_{n}\\\\\n",
    " \\end{bmatrix}\n",
    "\\quad \\mathbf{\\epsilon}= \\begin{bmatrix}\n",
    " \\epsilon_{1}\\\\\n",
    " \\epsilon_{2}\\\\\n",
    " \\epsilon_{3}\\\\\n",
    " \\vdots\\\\\n",
    " \\epsilon_{n}\\\\\n",
    "\\end{bmatrix}\n",
    "$$\n",
    "\n"
   ]
  },
  {
   "cell_type": "markdown",
   "id": "eastern-sodium",
   "metadata": {},
   "source": [
    "A resposta estimada ou prevista , $\\tilde{y}_i$, para cada observação deve ser o mais próximo possível da resposta real correspondente $y_i$. Desta forma a diferença $y_i - \\tilde{y}_i $ para todas as observações deve ser a menor possível, ou seja, de forma que $ y_i - \\tilde{y}_i = \\epsilon_i$, e os valores $\\epsilon_i$ devem ser muito pequenos.\n",
    "\n",
    "Para obter os melhores pesos (ou seja os melhores valores de $b_i$), você geralmente minimiza a soma dos resíduos quadrados (SSR) para todas as observações.\n",
    "\n",
    "$$\\mathbf{SSR} = \\sum_{i} (y_i - \\tilde{y}_i)^2$$\n",
    "\n",
    "Desta forma o valor acima deve ser o mínimo possível e essa abordagem é denominada **método dos mínimos quadados ordinários**.\n",
    "\n",
    "Uma boa maneira de verificar se seu modelo de regressão está bem ajustado é observar o valor de $R^2$ chamado de **coeficiente de determinação**, ele informa que percentual é eliminado do erro de previsão na variável $y$ quando usamos a regressão de mínimos quadrados sobre a variável $x$ (isto não será discutido aqui, para saber mais clique [aqui](https://pt.wikipedia.org/wiki/Coeficiente_de_determina%C3%A7%C3%A3o)). \n",
    "\n",
    "Basicamente o $R^2$ informa qual quantidade de variação em $y$ pode ser explicada pela dependência de $\\mathbf{x}$ usando o modelo de regressão. Um ajuste perfeito corresponderia a $R^{2}=1$ e $\\mathbf{SSR} = 0$."
   ]
  },
  {
   "cell_type": "markdown",
   "id": "flying-vertex",
   "metadata": {},
   "source": [
    "---"
   ]
  },
  {
   "cell_type": "markdown",
   "id": "legal-class",
   "metadata": {},
   "source": [
    "### **Regressão Simples**\n",
    "\n",
    "Este é o caso mais simples de regressão linear, com uma única variável independente, $\\mathbf{x}=x$. A função estimadam possui a forma $\\tilde{y}_i = b_{0} + b_{1}x$, e aqui seu objetivo é calcular os valores $b_0$ e $b_1$ que tornem o **SSR** o menor possível."
   ]
  },
  {
   "cell_type": "markdown",
   "id": "valued-rover",
   "metadata": {},
   "source": [
    "Existem cinco etapas básicas ao implementar a regressão linear:\n",
    "\n",
    "* Importe os pacotes e classes que você precisa.\n",
    "* Forneça dados para trabalhar e faça as transformações apropriadas.\n",
    "* Crie um modelo de regressão e ajuste-o aos dados existentes.\n",
    "* Verifique os resultados do ajuste do modelo para saber se o modelo é satisfatório.\n",
    "* Aplique o modelo para previsões.\n",
    "\n",
    "Um modo menos formal de descrever essas etapas (até mais simplificado) é:\n",
    "\n",
    "* Encontre o coeficiente angular.\n",
    "* Determine a interceptação em y.\n",
    "* Escreva a equação na forma $y = b_{0} + b_{1}x$.\n",
    "\n",
    "Essas etapas são mais ou menos gerais para a maioria das abordagens e implementações de regressão. Agora vamos para a prática!!"
   ]
  },
  {
   "cell_type": "markdown",
   "id": "wanted-virgin",
   "metadata": {},
   "source": [
    "### **Importar os pacotes**"
   ]
  },
  {
   "cell_type": "code",
   "execution_count": 50,
   "id": "convinced-bride",
   "metadata": {},
   "outputs": [],
   "source": [
    "import numpy as np\n",
    "import matplotlib.pyplot as plt\n",
    "from sklearn.linear_model import LinearRegression"
   ]
  },
  {
   "cell_type": "markdown",
   "id": "silent-weight",
   "metadata": {},
   "source": [
    "A classe ``sklearn.linear_model.LinearRegression`` é usada para realizar regressão linear e polinomial e fazer previsões de acordo com os dados usados."
   ]
  },
  {
   "cell_type": "markdown",
   "id": "acoustic-gates",
   "metadata": {},
   "source": [
    "### **Forneça os Dados**\n",
    "\n",
    "Para a estapa forneça os dados com os quais quer trabalhar. As entradas (regressor, $X$) e saída (predictor, $y$) devem ser ``arrays`` ou um objeto semelhante.\n",
    " \n",
    "A forma mais simples de se oferecer os dados é:"
   ]
  },
  {
   "cell_type": "code",
   "execution_count": 51,
   "id": "arranged-apparel",
   "metadata": {},
   "outputs": [],
   "source": [
    "X = np.array([3, 13, 23, 33, 43, 53]).reshape((-1, 1))\n",
    "y = np.array([3, 18, 12, 30, 20, 35])"
   ]
  },
  {
   "cell_type": "markdown",
   "id": "confidential-england",
   "metadata": {},
   "source": [
    "Agora você tem os valores que precisa da entrada $X$ e a saída $y$. Usamos ``.reshape()`` sobre $x$ porque é necessário que a matriz seja bidimensional, ou para ser mais preciso, para ter uma coluna e tantas linhas quanto necessário. Vocẽ pode ver na [documentação](https://scikit-learn.org/stable/modules/generated/sklearn.linear_model.LinearRegression.html#sklearn.linear_model.LinearRegression) que o método exige uma matriz do tipo ``X(n_samples, n_features)`` o que explica nosso o uso do método ``.reshape()``, pois temos apenas 1 feature e 6 linhas com as amostras de modo que ``.reshape((-1,1))`` rearranja nosso array de 6 colunas de amostras em apenas uma coluna com as amostras."
   ]
  },
  {
   "cell_type": "code",
   "execution_count": 52,
   "id": "fossil-clinic",
   "metadata": {},
   "outputs": [
    {
     "data": {
      "text/plain": [
       "array([[ 3],\n",
       "       [13],\n",
       "       [23],\n",
       "       [33],\n",
       "       [43],\n",
       "       [53]])"
      ]
     },
     "execution_count": 52,
     "metadata": {},
     "output_type": "execute_result"
    }
   ],
   "source": [
    "X"
   ]
  },
  {
   "cell_type": "code",
   "execution_count": 53,
   "id": "crucial-ocean",
   "metadata": {},
   "outputs": [
    {
     "data": {
      "text/plain": [
       "array([ 3, 18, 12, 30, 20, 35])"
      ]
     },
     "execution_count": 53,
     "metadata": {},
     "output_type": "execute_result"
    }
   ],
   "source": [
    "y"
   ]
  },
  {
   "cell_type": "code",
   "execution_count": 54,
   "id": "pleased-mobility",
   "metadata": {},
   "outputs": [
    {
     "name": "stdout",
     "output_type": "stream",
     "text": [
      "Dimensão de X: (6, 1)\n",
      "Dimensão de y: (6,)\n"
     ]
    }
   ],
   "source": [
    "print('Dimensão de X:',X.shape)\n",
    "print('Dimensão de y:',y.shape)"
   ]
  },
  {
   "cell_type": "markdown",
   "id": "classical-briefs",
   "metadata": {},
   "source": [
    "### **Crie o modelo e faça ajustes**\n",
    "\n",
    "Para isto vamos criar uma instância da classe ``LinearRegression``, que representará o modelo de regressão:"
   ]
  },
  {
   "cell_type": "code",
   "execution_count": 55,
   "id": "brief-engineer",
   "metadata": {},
   "outputs": [],
   "source": [
    "skt_rg = LinearRegression()"
   ]
  },
  {
   "cell_type": "markdown",
   "id": "surprising-shame",
   "metadata": {},
   "source": [
    "Esta instrução cria a variável ``skt_rg`` como a instância de ``LinearRegression``. Você pode fornecer vários parâmetros opcionais:\n",
    "\n",
    "* ``fit_intercept`` é um booleano (<font color='green'>True</font> por padrão) que decide se deve calcular a interceptação $b$ (<font color='green'>True</font>) ou considerá-la igual a zero (<font color='red'>False</font>).\n",
    "\n",
    "* ``normalize`` é um booleano (<font color='red'>False</font> por padrão) que decide se deve normalizar as variáveis de entrada (<font color='green'>True</font>) ou não (<font color='red'>False</font>).\n",
    "\n",
    "* ``copy_X`` é um booleano (<font color='green'>True</font> por padrão) que decide se deve copiar (<font color='green'>True</font>) ou sobrescrever as variáveis de entrada (<font color='red'>False</font>).\n",
    "\n",
    "* ``n_jobs`` é um número inteiro ou **None** (padrão) e representa o número de trabalhos usados na computação paralela. **None** geralmente significa um trabalho e -1 significa usar todos os trabalhos.\n",
    "\n",
    "Agora podemois usar o modelo:"
   ]
  },
  {
   "cell_type": "code",
   "execution_count": 56,
   "id": "proud-poster",
   "metadata": {},
   "outputs": [
    {
     "data": {
      "text/plain": [
       "LinearRegression()"
      ]
     },
     "execution_count": 56,
     "metadata": {},
     "output_type": "execute_result"
    }
   ],
   "source": [
    "skt_rg.fit(X, y)"
   ]
  },
  {
   "cell_type": "markdown",
   "id": "popular-quest",
   "metadata": {},
   "source": [
    "Com ``.fit()``, você calcula os valores ótimos dos pesos $b_0$ e $b_1$, usando a entrada e a saída existentes ($X$ e $y$) como argumentos. Note que a declaração acima retorna a prória variável de forma que poderiamos ter feito:"
   ]
  },
  {
   "cell_type": "code",
   "execution_count": 57,
   "id": "funky-cabinet",
   "metadata": {},
   "outputs": [],
   "source": [
    "rkt_rg = LinearRegression().fit(X, y) # simplifica todo o processo anterior"
   ]
  },
  {
   "cell_type": "markdown",
   "id": "brave-metropolitan",
   "metadata": {},
   "source": [
    "---"
   ]
  },
  {
   "cell_type": "markdown",
   "id": "compact-indonesia",
   "metadata": {},
   "source": [
    "### **Resultados**\n",
    "\n",
    "Depois que o modelo é ajustado podemos ver os resultados. Você pode obter o valor de $R^2$ chamando ``.score()`` na variável ``skt_rg``."
   ]
  },
  {
   "cell_type": "code",
   "execution_count": 58,
   "id": "comic-increase",
   "metadata": {},
   "outputs": [
    {
     "name": "stdout",
     "output_type": "stream",
     "text": [
      "coeficiente de determinação : 0.709868604976237\n"
     ]
    }
   ],
   "source": [
    "R = skt_rg.score(X,y)\n",
    "\n",
    "print('coeficiente de determinação :', R)"
   ]
  },
  {
   "cell_type": "markdown",
   "id": "precious-marine",
   "metadata": {},
   "source": [
    "Perceba que os argumentos são X e y e o retorno é o valor de $R^2$.\n",
    "\n",
    "Para determinar os coeficientes usamos os atributos ``.intercept_``, que retorna o coeficiente $b_0$, e ``.coef_``, que representa $b_1$."
   ]
  },
  {
   "cell_type": "code",
   "execution_count": 59,
   "id": "thermal-bracket",
   "metadata": {},
   "outputs": [
    {
     "name": "stdout",
     "output_type": "stream",
     "text": [
      "interceptação: 4.946666666666669\n",
      "coeficiente angular da reta: [0.52571429]\n"
     ]
    }
   ],
   "source": [
    "print('interceptação:', skt_rg.intercept_)\n",
    "print('coeficiente angular da reta:', skt_rg.coef_)"
   ]
  },
  {
   "cell_type": "code",
   "execution_count": 60,
   "id": "ethical-election",
   "metadata": {},
   "outputs": [
    {
     "data": {
      "text/plain": [
       "numpy.float64"
      ]
     },
     "execution_count": 60,
     "metadata": {},
     "output_type": "execute_result"
    }
   ],
   "source": [
    "type(skt_rg.intercept_)"
   ]
  },
  {
   "cell_type": "code",
   "execution_count": 61,
   "id": "hispanic-corps",
   "metadata": {},
   "outputs": [
    {
     "data": {
      "text/plain": [
       "numpy.ndarray"
      ]
     },
     "execution_count": 61,
     "metadata": {},
     "output_type": "execute_result"
    }
   ],
   "source": [
    "type(skt_rg.coef_)"
   ]
  },
  {
   "cell_type": "markdown",
   "id": "massive-reproduction",
   "metadata": {},
   "source": [
    "Perceba que ``skt_rg.intercept_`` é um numpy número (escalar) e ``skt_rg.coef_`` é uma matriz. E desta forma temos $b_0 = 4,94$ e $b_1 = 0,52$ e teriamos assim uma equação do tipo $\\mathbf{y} = 4,94 + 0,52\\mathbf{X} $.\n",
    "\n",
    "\n",
    "\n"
   ]
  },
  {
   "cell_type": "markdown",
   "id": "continuing-boards",
   "metadata": {},
   "source": [
    "---"
   ]
  },
  {
   "cell_type": "markdown",
   "id": "indie-albany",
   "metadata": {},
   "source": [
    "### **Visualizando o que foi feito**"
   ]
  },
  {
   "cell_type": "markdown",
   "id": "italic-symphony",
   "metadata": {},
   "source": [
    "A figura abaixo ilustra a regressão linear simples que fizemos."
   ]
  },
  {
   "cell_type": "code",
   "execution_count": 62,
   "id": "cultural-inspector",
   "metadata": {},
   "outputs": [
    {
     "data": {
      "image/png": "[encoded data removed]",
      "text/plain": [
       "<Figure size 576x360 with 1 Axes>"
      ]
     },
     "metadata": {
      "needs_background": "light"
     },
     "output_type": "display_data"
    }
   ],
   "source": [
    "fig, ax = plt.subplots(figsize=(8,5))\n",
    "ax.scatter(X.ravel(),y, c='red', edgecolors='black')\n",
    "ax.plot(X, skt_rg.intercept_+skt_rg.coef_*X,'--')\n",
    "ax.scatter(X, skt_rg.intercept_+skt_rg.coef_*X, marker='P', color='violet')\n",
    "ax.hlines(skt_rg.intercept_, X.min(), X.max(),color='orange', linestyles='dashed')\n",
    "ax.legend(['Estimativa de regressão $ỹ = b_{0} + b_{1}x$','Entradas $y_i$',\n",
    "           'Predição $ỹ_i = b_{0} + b_{1}x_i$ ', 'Reta onde $x = 0$']);"
   ]
  },
  {
   "cell_type": "markdown",
   "id": "periodic-negative",
   "metadata": {},
   "source": [
    "Veja que começamos com determinados pares de entrada x-y (os círuclos vermelhos) que são suas observações, seus dados \"reais\", a função estimada possui a forma $\\tilde{y}= b_{0} + b_{1}x $ (linha tracejada azul), as repostas previstas (os sinais de $+$ violetas) são os pontos que estão na linha de regressão repesentando os valores \"ótimos\" e a reta onde $x=0$ (linha tracejada laranja) representa o valor de $b_0$, ou seja, onde a nossa reta de regressão corta o eixo $y$.\n",
    "\n",
    "Os erros aleatórios são a distância entre os sinais de $+$ violetas e os círculos vermelhos, o seu objetivo ao fazer uma regressão linear é minimizá-la"
   ]
  },
  {
   "cell_type": "markdown",
   "id": "complicated-preservation",
   "metadata": {},
   "source": [
    "---"
   ]
  },
  {
   "cell_type": "markdown",
   "id": "personal-county",
   "metadata": {},
   "source": [
    "### **Prevendo Resposta**"
   ]
  },
  {
   "cell_type": "markdown",
   "id": "blocked-mistress",
   "metadata": {},
   "source": [
    "Se você obteve um modelo satisfatório pode usá-lo para previsões com novos dados ou já existentes. Para isso use o método ``.predict()``."
   ]
  },
  {
   "cell_type": "code",
   "execution_count": 63,
   "id": "human-marketplace",
   "metadata": {},
   "outputs": [
    {
     "name": "stdout",
     "output_type": "stream",
     "text": [
      "resposta do método predict:\n",
      "[ 6.52380952 11.78095238 17.03809524 22.2952381  27.55238095 32.80952381]\n"
     ]
    }
   ],
   "source": [
    "y_pred = skt_rg.predict(X)\n",
    "print('resposta do método predict:', y_pred, sep='\\n')"
   ]
  },
  {
   "cell_type": "markdown",
   "id": "marked-watson",
   "metadata": {},
   "source": [
    "Como você pode observar ao aplicar ``.predict()``, passa-se o regressor (variável X) como o argumento e obtém a resposta prevista correspondente.\n",
    "\n",
    "Uma outra forma de se obter as predições é:"
   ]
  },
  {
   "cell_type": "code",
   "execution_count": 64,
   "id": "welsh-receipt",
   "metadata": {},
   "outputs": [
    {
     "name": "stdout",
     "output_type": "stream",
     "text": [
      "resposta do método predict:\n",
      "[[ 6.52380952]\n",
      " [11.78095238]\n",
      " [17.03809524]\n",
      " [22.2952381 ]\n",
      " [27.55238095]\n",
      " [32.80952381]]\n"
     ]
    }
   ],
   "source": [
    "y_pred = skt_rg.intercept_ + skt_rg.coef_*X\n",
    "print('resposta do método predict:', y_pred, sep='\\n')"
   ]
  },
  {
   "cell_type": "markdown",
   "id": "affected-warner",
   "metadata": {},
   "source": [
    "Perceba que agora temos uma matriz reposta bi-dimensional.\n",
    "\n",
    "Como disse anteriormante você pode usar novos dados para gerar novas saídas com base nesses dados:"
   ]
  },
  {
   "cell_type": "code",
   "execution_count": 65,
   "id": "adjacent-beast",
   "metadata": {},
   "outputs": [
    {
     "data": {
      "text/plain": [
       "array([[0],\n",
       "       [1],\n",
       "       [2],\n",
       "       [3],\n",
       "       [4]])"
      ]
     },
     "execution_count": 65,
     "metadata": {},
     "output_type": "execute_result"
    }
   ],
   "source": [
    "X_new = np.arange(5).reshape((-1, 1)) # novamente usando reshape para deixar a matriz em duas dimensões.\n",
    "X_new"
   ]
  },
  {
   "cell_type": "code",
   "execution_count": 66,
   "id": "optical-reporter",
   "metadata": {},
   "outputs": [
    {
     "data": {
      "text/plain": [
       "array([4.94666667, 5.47238095, 5.99809524, 6.52380952, 7.04952381])"
      ]
     },
     "execution_count": 66,
     "metadata": {},
     "output_type": "execute_result"
    }
   ],
   "source": [
    "y_new = skt_rg.predict(X_new)\n",
    "y_new"
   ]
  },
  {
   "cell_type": "markdown",
   "id": "monetary-ownership",
   "metadata": {},
   "source": [
    "Caso queira saber mais informações sobre esse método veja a [documentação oficial](https://scikit-learn.org/stable/modules/generated/sklearn.linear_model.LinearRegression.html#sklearn.linear_model.LinearRegression)."
   ]
  },
  {
   "cell_type": "markdown",
   "id": "concrete-screen",
   "metadata": {},
   "source": [
    "---"
   ]
  }
 ],
 "metadata": {
  "kernelspec": {
   "display_name": "Python 3",
   "language": "python",
   "name": "python3"
  },
  "language_info": {
   "codemirror_mode": {
    "name": "ipython",
    "version": 3
   },
   "file_extension": ".py",
   "mimetype": "text/x-python",
   "name": "python",
   "nbconvert_exporter": "python",
   "pygments_lexer": "ipython3",
   "version": "3.8.5"
  }
 },
 "nbformat": 4,
 "nbformat_minor": 5
}
